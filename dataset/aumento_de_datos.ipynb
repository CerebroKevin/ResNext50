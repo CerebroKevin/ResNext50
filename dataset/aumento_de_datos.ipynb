{
 "cells": [
  {
   "cell_type": "code",
   "execution_count": 1,
   "metadata": {},
   "outputs": [],
   "source": [
    "import cv2\n",
    "import numpy as np\n",
    "import os"
   ]
  },
  {
   "cell_type": "code",
   "execution_count": 2,
   "metadata": {},
   "outputs": [
    {
     "data": {
      "text/plain": [
       "\"\\n\\n    # Mostrar las imágenes originales y modificadas\\n    cv2.imshow('imagen_original.jpg', imagen)\\n    cv2.imshow('imagen_clara.jpg', imagen_brillante)\\n    cv2.imshow('imagen_oscura.jpg', imagen_oscura)\\n    cv2.imshow('imagen_desenfocada.jpg', imagen_desenfocada)\\n    cv2.imshow('imagen_rotada90grados.jpg', imagen_rotada_90)\\n    cv2.imshow('imagen_rotada180grados.jpg', imagen_rotada_180)\\n    cv2.imshow('imagen_rotada270grados.jpg', imagen_rotada_270)\\n    cv2.imshow('imagen_espejo_horizontal.jpg', imagen_espejo_horizontal)\\n    cv2.imshow('imagen_espejo_vertical.jpg', imagen_espejo_vertical)\\n\\n\\n    # Esperar hasta que se presione una tecla y luego cerrar las ventanas\\n    cv2.waitKey(0)\\n    cv2.destroyAllWindows()  \\n\""
      ]
     },
     "execution_count": 2,
     "metadata": {},
     "output_type": "execute_result"
    }
   ],
   "source": [
    "def imagesAumentation(nameImge, directoryImage, nameMask, directoryMask):\n",
    "    \n",
    "    # Cargar la imagen\n",
    "    imagen = cv2.imread(directoryImage+'/'+nameImge)\n",
    "\n",
    "    # Cargar la mascara\n",
    "    mask = cv2.imread(directoryMask+'/'+nameMask, cv2.IMREAD_GRAYSCALE)\n",
    "    \n",
    "    \n",
    "    \n",
    "\n",
    "    # Aumentar brillo\n",
    "    factor_brillo_alto = 1.25\n",
    "    imagen_brillante = np.clip(imagen * factor_brillo_alto, 0, 255).astype(np.uint8)\n",
    "\n",
    "    # Reducir el brillo\n",
    "    factor_brillo_bajo = 0.75\n",
    "    imagen_oscura = np.clip(imagen * factor_brillo_bajo, 0, 255).astype(np.uint8)\n",
    "\n",
    "    # Aplicar desenfoque\n",
    "    kernel_size = 5\n",
    "    imagen_desenfocada = cv2.GaussianBlur(imagen, (kernel_size, kernel_size), 0)\n",
    "\n",
    "\n",
    "    # Rotar 90 grados en sentido horario\n",
    "    imagen_rotada_90 = cv2.rotate(imagen_brillante, cv2.ROTATE_90_CLOCKWISE)\n",
    "    mask_rotada_90 = cv2.rotate(mask, cv2.ROTATE_90_CLOCKWISE)\n",
    "\n",
    "    # Rotar 180 grados\n",
    "    imagen_rotada_180 = cv2.rotate(imagen_oscura, cv2.ROTATE_180)\n",
    "    mask_rotada_180 = cv2.rotate(mask, cv2.ROTATE_180)\n",
    "\n",
    "    # Rotar 270 grados en sentido horario\n",
    "    imagen_rotada_270 = cv2.rotate(imagen, cv2.ROTATE_90_COUNTERCLOCKWISE)\n",
    "    mask_rotada_270 = cv2.rotate(mask, cv2.ROTATE_90_COUNTERCLOCKWISE)\n",
    "\n",
    "\n",
    "    # Guardar las imágenes modificadas\n",
    "    cv2.imwrite(directoryImage+nameImge[:-4]+'_bright'+nameImge[-4:], imagen_brillante)\n",
    "    cv2.imwrite(directoryMask+nameMask[:-4]+'_bright'+nameMask[-4:], mask)\n",
    "\n",
    "\n",
    "    cv2.imwrite(directoryImage+nameImge[:-4]+'_dark'+nameImge[-4:], imagen_oscura)\n",
    "    cv2.imwrite(directoryMask+nameMask[:-4]+'_dark'+nameMask[-4:], mask)\n",
    "\n",
    "\n",
    "    cv2.imwrite(directoryImage+nameImge[:-4]+'_out_focus'+nameImge[-4:], imagen_desenfocada)\n",
    "    cv2.imwrite(directoryMask+nameMask[:-4]+'_out_focus'+nameMask[-4:], mask)\n",
    "\n",
    "    cv2.imwrite(directoryImage+nameImge[:-4]+'_rotate90'+nameImge[-4:], imagen_rotada_90)\n",
    "    cv2.imwrite(directoryMask+nameMask[:-4]+'_rotate90'+nameMask[-4:], mask_rotada_90)\n",
    "\n",
    "\n",
    "    cv2.imwrite(directoryImage+nameImge[:-4]+'_rotate180'+nameImge[-4:], imagen_rotada_180)\n",
    "    cv2.imwrite(directoryMask+nameMask[:-4]+'_rotate180'+nameMask[-4:], mask_rotada_180)\n",
    "\n",
    "\n",
    "    cv2.imwrite(directoryImage+nameImge[:-4]+'_rotate270'+nameImge[-4:], imagen_rotada_270)\n",
    "    cv2.imwrite(directoryMask+nameMask[:-4]+'_rotate270'+nameMask[-4:], mask_rotada_270)\n",
    "\n",
    "\n",
    "'''\n",
    "\n",
    "    # Mostrar las imágenes originales y modificadas\n",
    "    cv2.imshow('imagen_original.jpg', imagen)\n",
    "    cv2.imshow('imagen_clara.jpg', imagen_brillante)\n",
    "    cv2.imshow('imagen_oscura.jpg', imagen_oscura)\n",
    "    cv2.imshow('imagen_desenfocada.jpg', imagen_desenfocada)\n",
    "    cv2.imshow('imagen_rotada90grados.jpg', imagen_rotada_90)\n",
    "    cv2.imshow('imagen_rotada180grados.jpg', imagen_rotada_180)\n",
    "    cv2.imshow('imagen_rotada270grados.jpg', imagen_rotada_270)\n",
    "    cv2.imshow('imagen_espejo_horizontal.jpg', imagen_espejo_horizontal)\n",
    "    cv2.imshow('imagen_espejo_vertical.jpg', imagen_espejo_vertical)\n",
    "\n",
    "\n",
    "    # Esperar hasta que se presione una tecla y luego cerrar las ventanas\n",
    "    cv2.waitKey(0)\n",
    "    cv2.destroyAllWindows()  \n",
    "'''\n",
    "    "
   ]
  },
  {
   "cell_type": "code",
   "execution_count": 3,
   "metadata": {},
   "outputs": [],
   "source": [
    "training_images='./train/images/'\n",
    "training_masks='./train/masks/'\n",
    "\n",
    "training_image_names = sorted([str(i) for i in os.listdir(training_images)])\n",
    "training_mask_names = sorted([str(i) for i in os.listdir(training_masks)])\n",
    "\n",
    "num_images=len(training_image_names)\n",
    "\n",
    "for i in range(num_images):\n",
    "    imagesAumentation(training_image_names[i], training_images, training_mask_names[i], training_masks)\n"
   ]
  }
 ],
 "metadata": {
  "kernelspec": {
   "display_name": "Python 3",
   "language": "python",
   "name": "python3"
  },
  "language_info": {
   "codemirror_mode": {
    "name": "ipython",
    "version": 3
   },
   "file_extension": ".py",
   "mimetype": "text/x-python",
   "name": "python",
   "nbconvert_exporter": "python",
   "pygments_lexer": "ipython3",
   "version": "3.12.3"
  }
 },
 "nbformat": 4,
 "nbformat_minor": 2
}
